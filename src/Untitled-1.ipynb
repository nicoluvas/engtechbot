{
 "cells": [
  {
   "cell_type": "code",
   "execution_count": 1,
   "metadata": {},
   "outputs": [
    {
     "name": "stdout",
     "output_type": "stream",
     "text": [
      "Loading...\n",
      "scan qr code\n"
     ]
    }
   ],
   "source": [
    "from selenium import webdriver\n",
    "from whatsapp_api import WhatsApp\n",
    "from webdriver_manager.chrome import ChromeDriverManager\n",
    "\n",
    "driver = webdriver.Chrome(ChromeDriverManager().install())\n",
    "wp = WhatsApp()"
   ]
  },
  {
   "cell_type": "code",
   "execution_count": 2,
   "metadata": {},
   "outputs": [],
   "source": [
    "wp.search_contact('nicolyvas')\n",
    "wp.send_message('hello')"
   ]
  },
  {
   "cell_type": "code",
   "execution_count": 3,
   "metadata": {},
   "outputs": [
    {
     "name": "stdout",
     "output_type": "stream",
     "text": [
      "return debug all: ['a', 'a', 'a', 'a', 'ce gosta ne', 'hello', 'hello', 'hello', 'hello', 'aaaaaaaaaaaaaaaaaaaaaaaaaaaaaaaa', '31/08\\nRua Koichi Matsumura 103, apt 15. Jardim América', 'hello', 'hello', 'hello', 'hello', 'hello', 'hello', 'hello', 'hello', 'hello', 'hello', 'hello', 'aaaaaa', 'aaaaaa', 'hello', 'Mensagens para mim', 'hello', 'hello', 'bye', 'bye', 'oh nao agora voce disse bye', 'hello', 'voce disse hello', 'hello']\n",
      "return debug last one: hello\n"
     ]
    }
   ],
   "source": [
    "\n",
    "all_messages = wp.get_all_messages()\n",
    "print(\"return debug all: \" + str(all_messages))\n",
    "print(\"return debug last one: \" + str(all_messages[-1]))\n",
    "lastmsg = str(all_messages[-1])\n",
    "if lastmsg == \"hello\":\n",
    "    wp.send_message(f\"voce disse {lastmsg}\")\n",
    "if lastmsg == \"bye\":\n",
    "    wp.send_message(f\"oh nao agora voce disse {lastmsg}\")"
   ]
  },
  {
   "cell_type": "code",
   "execution_count": 3,
   "metadata": {},
   "outputs": [
    {
     "name": "stdout",
     "output_type": "stream",
     "text": [
      "nicolyvas\n"
     ]
    }
   ],
   "source": [
    "from selenium.webdriver.common.by import By\n",
    "\n",
    "current_user_element = wp.driver.find_element(By.XPATH, '//*[@id=\"main\"]/header/div[2]/div[1]/div/div/span[1]')\n",
    "current_user_text = current_user_element.text\n",
    "print(current_user_text)"
   ]
  },
  {
   "cell_type": "code",
   "execution_count": 48,
   "metadata": {},
   "outputs": [],
   "source": [
    "from selenium import webdriver\n",
    "from selenium.webdriver.common.by import By\n",
    "from selenium.webdriver.common.keys import Keys\n",
    "message_box = '//*[@id=\"main\"]/footer/div[1]/div/span/div/div[2]/div[1]/div/div[1]/p'\n",
    "mensagem = \"\"\"\n",
    "Olá! O que deseja?\n",
    "Digite o número especificado.\n",
    "1. Criar Orçamento;\n",
    "2. Contato Direto;\n",
    "3. Renegociar Orçamento.\n",
    "\"\"\"\n",
    "wp.write_message(mensagem)"
   ]
  }
 ],
 "metadata": {
  "kernelspec": {
   "display_name": "Python 3",
   "language": "python",
   "name": "python3"
  },
  "language_info": {
   "codemirror_mode": {
    "name": "ipython",
    "version": 3
   },
   "file_extension": ".py",
   "mimetype": "text/x-python",
   "name": "python",
   "nbconvert_exporter": "python",
   "pygments_lexer": "ipython3",
   "version": "3.12.6"
  }
 },
 "nbformat": 4,
 "nbformat_minor": 2
}
