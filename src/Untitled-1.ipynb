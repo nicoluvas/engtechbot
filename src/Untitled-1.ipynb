{
 "cells": [
  {
   "cell_type": "code",
   "execution_count": 1,
   "metadata": {
    "tags": [
     "init"
    ]
   },
   "outputs": [
    {
     "name": "stdout",
     "output_type": "stream",
     "text": [
      "Loading...\n",
      "scan qr code\n"
     ]
    }
   ],
   "source": [
    "from selenium import webdriver\n",
    "from whatsapp_api import WhatsApp\n",
    "from webdriver_manager.chrome import ChromeDriverManager\n",
    "\n",
    "driver = webdriver.Chrome(ChromeDriverManager().install())\n",
    "wp = WhatsApp()"
   ]
  },
  {
   "cell_type": "code",
   "execution_count": 21,
   "metadata": {
    "tags": [
     "init"
    ]
   },
   "outputs": [],
   "source": [
    "CONTACTS = '//*[@id=\"main\"]/header/div[2]/div[2]/span'\n",
    "MESSAGE_BOX = '//*[@id=\"main\"]/footer/div[1]/div/span/div/div[2]/div[1]/div/div[1]/p'\n",
    "SEND = '//*[@id=\"main\"]/footer/div[1]/div/span/div/div[2]/div[2]/button'\n",
    "NEW_CHAT = '//*[@id=\"side\"]/div[1]/div/div[2]/div[2]/div/div/p'\n",
    "FIRST_CONTACT = '//*[@id=\"app\"]/div/div[2]/div[2]/div[1]/span/div/span/div/div[2]/div/div/div/div[2]/div/div/div[2]'\n",
    "SEARCH_CONTACT = '//*[@id=\"app\"]/div/div[2]/div[2]/div[1]/span/div/span/div/div[1]/div[2]/div[2]/div/div[1]'\n"
   ]
  },
  {
   "cell_type": "code",
   "execution_count": 33,
   "metadata": {},
   "outputs": [
    {
     "name": "stdout",
     "output_type": "stream",
     "text": [
      "return debug all: ['Criar Orçamento;', 'Contato Direto;', 'Renegociar Orçamento.', 'Olá! O que deseja?', 'Digite o número especificado.', 'Criar Orçamento;', 'Contato Direto;', 'Renegociar Orçamento.', 'Olá! O que deseja?', 'Digite o número especificado.', 'Criar Orçamento;', 'Contato Direto;', 'Renegociar Orçamento.', 'mensagem = \"\"\"\\nOlá! O que deseja?\\nDigite o número especificado.\\nCriar Orçamento;\\nContato Direto;\\nRenegociar Orçamento.\\n\"\"\"', 'Olá! O que deseja?', 'Olá! O que deseja?\\nDigite o número especificado.\\nCriar Orçamento;\\nContato Direto;\\nRenegociar Orçamento.', 'Olá! O que deseja?\\nDigite o número especificado.\\nCriar Orçamento;\\nContato Direto;\\nRenegociar Orçamento.', 'Olá! O que deseja?\\nDigite o número especificado.\\nCriar Orçamento;\\nContato Direto;\\nRenegociar Orçamento.']\n",
      "return debug last one: Olá! O que deseja?\n",
      "Digite o número especificado.\n",
      "Criar Orçamento;\n",
      "Contato Direto;\n",
      "Renegociar Orçamento.\n"
     ]
    }
   ],
   "source": [
    "\n",
    "all_messages = wp.get_all_messages()\n",
    "print(\"return debug all: \" + str(all_messages))\n",
    "print(\"return debug last one: \" + str(all_messages[-1]))\n",
    "lastmsg = str(all_messages[-1])\n",
    "if lastmsg == \"hello\":\n",
    "    wp.send_message(f\"voce disse {lastmsg}\")\n",
    "if lastmsg == \"bye\":\n",
    "    wp.send_message(f\"oh nao agora voce disse {lastmsg}\")"
   ]
  },
  {
   "cell_type": "code",
   "execution_count": 32,
   "metadata": {},
   "outputs": [
    {
     "name": "stdout",
     "output_type": "stream",
     "text": [
      "nicolyvas\n"
     ]
    }
   ],
   "source": [
    "from selenium.webdriver.common.by import By\n",
    "\n",
    "current_user_element = wp.driver.find_element(By.XPATH, '//*[@id=\"main\"]/header/div[2]/div[1]/div/div/span[1]')\n",
    "current_user_text = current_user_element.text\n",
    "print(current_user_text)"
   ]
  },
  {
   "cell_type": "code",
   "execution_count": 31,
   "metadata": {},
   "outputs": [],
   "source": [
    "from selenium import webdriver\n",
    "from selenium.webdriver.common.by import By\n",
    "from selenium.webdriver.common.keys import Keys\n",
    "# message_box = '//*[@id=\"main\"]/footer/div[1]/div/span/div/div[2]/div[1]/div/div[1]/p'\n",
    "\n",
    "wp._click(MESSAGE_BOX)\n",
    "SEND = '//*[@id=\"main\"]/footer/div[1]/div/span/div/div[2]/div[2]/button'\n",
    "wp._send_keys(MESSAGE_BOX,\"Olá! O que deseja?\" \n",
    "                 + \"\\ue008\\ue007\\ue008\" + \n",
    "                 \"Digite o número especificado.\" \n",
    "                 + \"\\ue008\\ue007\\ue008\" + \n",
    "                 \"1. Criar Orçamento;\" \n",
    "                 + \"\\ue008\\ue007\\ue008\" + \n",
    "                 \"Contato Direto;\"\n",
    "                 + \"\\ue008\\ue007\\ue008\" + \n",
    "                 \"Renegociar Orçamento.\"\n",
    "                 )\n",
    "wp._click(SEND)"
   ]
  },
  {
   "cell_type": "code",
   "execution_count": 29,
   "metadata": {
    "tags": [
     "debug"
    ]
   },
   "outputs": [
    {
     "data": {
      "text/plain": [
       "<selenium.webdriver.remote.webelement.WebElement (session=\"4ac470a7aa8af59ce321ad676d3c22ad\", element=\"f.D6CD1B5DFBB4147AD44313F71C2341E4.d.2EDA311A64C71142E448A8EF4DC9426E.e.167\")>"
      ]
     },
     "execution_count": 29,
     "metadata": {},
     "output_type": "execute_result"
    }
   ],
   "source": [
    "print(MESSAGE_BOX)\n",
    "wp._get_element(MESSAGE_BOX)"
   ]
  }
 ],
 "metadata": {
  "kernelspec": {
   "display_name": "Python 3",
   "language": "python",
   "name": "python3"
  },
  "language_info": {
   "codemirror_mode": {
    "name": "ipython",
    "version": 3
   },
   "file_extension": ".py",
   "mimetype": "text/x-python",
   "name": "python",
   "nbconvert_exporter": "python",
   "pygments_lexer": "ipython3",
   "version": "3.12.6"
  }
 },
 "nbformat": 4,
 "nbformat_minor": 2
}
