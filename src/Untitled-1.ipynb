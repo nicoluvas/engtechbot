{
 "cells": [
  {
   "cell_type": "code",
   "execution_count": 31,
   "metadata": {},
   "outputs": [],
   "source": [
    "wp._send_keys(NEW_CHAT, 'nicolyvas')\n",
    "# wp.search_contact('nicolyvas')\n",
    "sleep(10)\n",
    "wp._send_keys(MESSAGE_BOX, 'nicolyvas')"
   ]
  },
  {
   "cell_type": "code",
   "execution_count": 4,
   "metadata": {},
   "outputs": [
    {
     "name": "stdout",
     "output_type": "stream",
     "text": [
      "Loading...\n",
      "scan qr code\n"
     ]
    }
   ],
   "source": [
    "from selenium import webdriver\n",
    "from whatsapp_api import WhatsApp\n",
    "from webdriver_manager.chrome import ChromeDriverManager\n",
    "\n",
    "driver = webdriver.Chrome(ChromeDriverManager().install())\n",
    "wp = WhatsApp()"
   ]
  },
  {
   "cell_type": "code",
   "execution_count": 30,
   "metadata": {},
   "outputs": [],
   "source": [
    "CONTACTS = '//*[@id=\"main\"]/header/div[2]/div[2]/span'\n",
    "MESSAGE_BOX = '//*[@id=\"main\"]/footer/div[1]/div/span/div/div[2]/div[1]/div/div[1]/p'\n",
    "SEND = '//*[@id=\"main\"]/footer/div[1]/div/span/div/div[2]/div[2]/button'\n",
    "NEW_CHAT = '//*[@id=\"side\"]/div[1]/div/div[2]/div[2]/div/div/p'\n",
    "FIRST_CONTACT = '//*[@id=\"app\"]/div/div[2]/div[2]/div[1]/span/div/span/div/div[2]/div/div/div/div[2]/div/div/div[2]'\n",
    "SEARCH_CONTACT = '//*[@id=\"app\"]/div/div[2]/div[2]/div[1]/span/div/span/div/div[1]/div[2]/div[2]/div/div[1]'\n"
   ]
  },
  {
   "cell_type": "code",
   "execution_count": 3,
   "metadata": {},
   "outputs": [
    {
     "name": "stdout",
     "output_type": "stream",
     "text": [
      "return debug all: ['a', 'a', 'a', 'a', 'ce gosta ne', 'hello', 'hello', 'hello', 'hello', 'aaaaaaaaaaaaaaaaaaaaaaaaaaaaaaaa', '31/08\\nRua Koichi Matsumura 103, apt 15. Jardim América', 'hello', 'hello', 'hello', 'hello', 'hello', 'hello', 'hello', 'hello', 'hello', 'hello', 'hello', 'aaaaaa', 'aaaaaa', 'hello', 'Mensagens para mim', 'hello', 'hello', 'bye', 'bye', 'oh nao agora voce disse bye', 'hello', 'voce disse hello', 'hello']\n",
      "return debug last one: hello\n"
     ]
    }
   ],
   "source": [
    "\n",
    "all_messages = wp.get_all_messages()\n",
    "print(\"return debug all: \" + str(all_messages))\n",
    "print(\"return debug last one: \" + str(all_messages[-1]))\n",
    "lastmsg = str(all_messages[-1])\n",
    "if lastmsg == \"hello\":\n",
    "    wp.send_message(f\"voce disse {lastmsg}\")\n",
    "if lastmsg == \"bye\":\n",
    "    wp.send_message(f\"oh nao agora voce disse {lastmsg}\")"
   ]
  },
  {
   "cell_type": "code",
   "execution_count": 3,
   "metadata": {},
   "outputs": [
    {
     "name": "stdout",
     "output_type": "stream",
     "text": [
      "nicolyvas\n"
     ]
    }
   ],
   "source": [
    "from selenium.webdriver.common.by import By\n",
    "\n",
    "current_user_element = wp.driver.find_element(By.XPATH, '//*[@id=\"main\"]/header/div[2]/div[1]/div/div/span[1]')\n",
    "current_user_text = current_user_element.text\n",
    "print(current_user_text)"
   ]
  },
  {
   "cell_type": "code",
   "execution_count": 44,
   "metadata": {},
   "outputs": [],
   "source": [
    "from selenium import webdriver\n",
    "from selenium.webdriver.common.by import By\n",
    "from selenium.webdriver.common.keys import Keys\n",
    "message_box = '//*[@id=\"main\"]/footer/div[1]/div/span/div/div[2]/div[1]/div/div[1]/p'\n",
    "SEND = '//*[@id=\"main\"]/footer/div[1]/div/span/div/div[2]/div[2]/button'\n",
    "wp.write_message(\"Olá! O que deseja?\" \n",
    "                 + \"\\ue008\\ue007\\ue008\" + \n",
    "                 \"Digite o número especificado.\" \n",
    "                 + \"\\ue008\\ue007\\ue008\" + \n",
    "                 \"1. Criar Orçamento;\" \n",
    "                 + \"\\ue008\\ue007\\ue008\" + \n",
    "                 \"Contato Direto;\"\n",
    "                 + \"\\ue008\\ue007\\ue008\" + \n",
    "                 \"Renegociar Orçamento.\"\n",
    "                 )\n",
    "wp._click(SEND)"
   ]
  },
  {
   "cell_type": "code",
   "execution_count": null,
   "metadata": {},
   "outputs": [],
   "source": []
  }
 ],
 "metadata": {
  "kernelspec": {
   "display_name": "Python 3",
   "language": "python",
   "name": "python3"
  },
  "language_info": {
   "codemirror_mode": {
    "name": "ipython",
    "version": 3
   },
   "file_extension": ".py",
   "mimetype": "text/x-python",
   "name": "python",
   "nbconvert_exporter": "python",
   "pygments_lexer": "ipython3",
   "version": "3.12.6"
  }
 },
 "nbformat": 4,
 "nbformat_minor": 2
}
