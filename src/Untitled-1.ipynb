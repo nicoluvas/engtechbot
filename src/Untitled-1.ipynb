{
 "cells": [
  {
   "cell_type": "code",
   "execution_count": 2,
   "metadata": {},
   "outputs": [
    {
     "name": "stdout",
     "output_type": "stream",
     "text": [
      "Loading...\n",
      "scan qr code\n"
     ]
    }
   ],
   "source": [
    "from time import sleep\n",
    "from selenium import webdriver\n",
    "from whatsapp_api import WhatsApp\n",
    "from webdriver_manager.chrome import ChromeDriverManager\n",
    "\n",
    "driver = webdriver.Chrome(ChromeDriverManager().install())\n",
    "wp = WhatsApp()"
   ]
  },
  {
   "cell_type": "code",
   "execution_count": 7,
   "metadata": {},
   "outputs": [
    {
     "name": "stdout",
     "output_type": "stream",
     "text": [
      "return debug all: ['a', 'a', 'a', 'a', 'ce gosta ne', 'hello', 'hello', 'hello', 'hello', 'aaaaaaaaaaaaaaaaaaaaaaaaaaaaaaaa', '31/08\\nRua Koichi Matsumura 103, apt 15. Jardim América', 'hello', 'hello', 'hello', 'hello', 'hello', 'hello', 'hello', 'hello', 'hello', 'hello', 'hello', 'aaaaaa', 'aaaaaa', 'hello', 'Mensagens para mim', 'hello', 'hello', 'bye', 'bye', 'oh nao agora voce disse bye', 'hello']\n",
      "return debug last one: hello\n"
     ]
    }
   ],
   "source": [
    "\n",
    "all_messages = wp.get_all_messages()\n",
    "print(\"return debug all: \" + str(all_messages))\n",
    "print(\"return debug last one: \" + str(all_messages[-1]))\n",
    "lastmsg = str(all_messages[-1])\n",
    "if lastmsg == \"hello\":\n",
    "    wp.send_message(f\"voce disse {lastmsg}\")\n",
    "if lastmsg == \"bye\":\n",
    "    wp.send_message(f\"oh nao agora voce disse {lastmsg}\")"
   ]
  }
 ],
 "metadata": {
  "kernelspec": {
   "display_name": "Python 3",
   "language": "python",
   "name": "python3"
  },
  "language_info": {
   "codemirror_mode": {
    "name": "ipython",
    "version": 3
   },
   "file_extension": ".py",
   "mimetype": "text/x-python",
   "name": "python",
   "nbconvert_exporter": "python",
   "pygments_lexer": "ipython3",
   "version": "3.12.0"
  }
 },
 "nbformat": 4,
 "nbformat_minor": 2
}
